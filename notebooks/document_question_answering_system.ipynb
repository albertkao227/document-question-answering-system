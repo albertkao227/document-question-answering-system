{
 "cells": [
  {
   "cell_type": "markdown",
   "id": "10859689-8b70-4254-bb80-3a4cc575b96e",
   "metadata": {},
   "source": [
    "# Document Question Answering System "
   ]
  },
  {
   "cell_type": "markdown",
   "id": "20293816-b873-4700-8f36-ac2ab464e45d",
   "metadata": {},
   "source": [
    "## 1. Document Preprocessing \n",
    "\n",
    "### 1a) Read document PDF file  "
   ]
  },
  {
   "cell_type": "code",
   "execution_count": 38,
   "id": "8407ebbe-7001-4d87-b777-ffb4154088de",
   "metadata": {},
   "outputs": [],
   "source": [
    "import os \n",
    "import numpy as np \n",
    "import pickle\n",
    "import warnings\n",
    "warnings.filterwarnings('ignore')"
   ]
  },
  {
   "cell_type": "code",
   "execution_count": 2,
   "id": "772d149b-d409-4baa-a4d6-aeaa62ccb388",
   "metadata": {},
   "outputs": [],
   "source": [
    "from PyPDF2 import PdfReader\n",
    "document_path = r\"shuttle_operations_manual.pdf\""
   ]
  },
  {
   "cell_type": "code",
   "execution_count": 7,
   "id": "86b0b7a7-5e70-44ea-9d98-b124b8210735",
   "metadata": {},
   "outputs": [],
   "source": [
    "reader = PdfReader(document_path)\n",
    "number_of_pages = len(reader.pages)\n",
    "content = []\n",
    "for i in range(number_of_pages):\n",
    "    page = reader.pages[i]\n",
    "    text = page.extract_text()\n",
    "    content.append(text.replace('\\n', ''))"
   ]
  },
  {
   "cell_type": "code",
   "execution_count": 8,
   "id": "a699e626-39c5-4b00-b918-57b2c8dd6b5d",
   "metadata": {},
   "outputs": [
    {
     "data": {
      "text/plain": [
       "1161"
      ]
     },
     "execution_count": 8,
     "metadata": {},
     "output_type": "execute_result"
    }
   ],
   "source": [
    "number_of_pages"
   ]
  },
  {
   "cell_type": "code",
   "execution_count": 26,
   "id": "02b1fe3e-d2c6-432e-ac26-0f2c368998c7",
   "metadata": {},
   "outputs": [],
   "source": [
    "# with open('manual.pkl', 'wb') as f:\n",
    "#     pickle.dump(content, f)"
   ]
  },
  {
   "cell_type": "code",
   "execution_count": 17,
   "id": "dd118df5-8b40-4d86-8380-b1a6cbf3c0a0",
   "metadata": {},
   "outputs": [
    {
     "data": {
      "text/plain": [
       "'USA007587 Rev. A 2. SYSTEMS 2.5 Crew Systems 2.5-14 MS BIOMED Input Connector on Panel A11  BIOMED Rotary Switches on Panel R10 Radiation Equipment The harmful biological e ffects of radiation must be minimized through mission planning based on calculated predictions and by monitoring dosage exposures.  Preflight requirements in-clude a projection of mission radiation dosage, an assessment of the probability of solar flares during the mission, and a radiation exposure history of flight crewmembers.  In-flight requirements mandate that each crewmember carry a passive dosimeter throughout the duration of the flight.  In the event of a solar flare or other radiation contingency, the crew would be requested to retrieve and read out one or more of the active dosimeters.   The space shuttle radiation instrumentation system consists of both active and passive dosimeter devices.  Active and passive radiation dosimetry devices include crew passive dosimeters (CPDs), passive radiation dosimeters (PRDs), a tissue equivalent proportional counter (TEPC), and a passive dosimeter kit (PDK).  High-rate dosimeters (HRDs) are located inside the PDK. The flight crew’s passive dosimeters use thermoluminescent dosimeter chips (TLDs); they must be worn by each U.S. crewmember throughout their flight, including EVAs.  The dosimeters measure the radiation dose to which a crewmember is exposed during the course of a mission and will be analyzed on the ground. Passive radiation dosimeters are placed in the crew compartment before launch by ground support personnel and removed after landing for laboratory analysis.  The remaining dosimeters are stowed in the PDK located in a middeck locker. The TEPC is an active spectrometer that records the dose, dose rate, and the linear energy transfer (LET) spectrum as a function of time.  The TEPC is required for most shuttle flights and nominally is stowed and deployed in the aft, starboard middeck area.  Normal operations require minimal crew interaction.   The unit is powered up, first at the power outlet, then at the switchbox located inside the TEPC assembly.  This task normally is conducted on FD1.  The unit is powered down on the last flight day. Periodically, the crew may be required to read the TEPC displays during certain radiation conditions, such as a solar proton event. The high rate dosimeter (HRD) is a COTS portable radiation detector used for detecting high-rate Neutron/Gamma radiation doses and Gamma radiation doses.  The HRD uses a PMOS-FET for prompt photons and a PIN diode for prompt neutrons.  The HRD may respond in a passive manner.  Without any power applied to the instrument, the prompt ne utrons will “damage” the PIN diode.  When the HRD is turned ON, it will read the “damage” as a Dose.  The HRD will remain stored in PDK in a locker unless the crew is instructed by the ground to read the instrument.  The crew may be requested to do this in the event of a contingency situation. '"
      ]
     },
     "execution_count": 17,
     "metadata": {},
     "output_type": "execute_result"
    }
   ],
   "source": [
    "content[221]"
   ]
  },
  {
   "cell_type": "markdown",
   "id": "0e280bb4-2f31-46f2-93f5-6584061dc5e6",
   "metadata": {},
   "source": [
    "### 1b) Create Embeddings for Each Page  "
   ]
  },
  {
   "cell_type": "code",
   "execution_count": 18,
   "id": "865ca426-865c-4ff2-af96-dbb8d3d70ee5",
   "metadata": {},
   "outputs": [],
   "source": [
    "from sentence_transformers import SentenceTransformer \n",
    "model = SentenceTransformer('all-MiniLM-L6-v2') "
   ]
  },
  {
   "cell_type": "code",
   "execution_count": 19,
   "id": "1c42e8bc-efcb-4d59-ad75-94e671bde86b",
   "metadata": {},
   "outputs": [],
   "source": [
    "embeddings = model.encode(content)"
   ]
  },
  {
   "cell_type": "code",
   "execution_count": 21,
   "id": "853553aa-e4fb-49a0-818f-90b3cf4be7c3",
   "metadata": {},
   "outputs": [
    {
     "data": {
      "text/plain": [
       "(1161, 384)"
      ]
     },
     "execution_count": 21,
     "metadata": {},
     "output_type": "execute_result"
    }
   ],
   "source": [
    "embeddings.shape "
   ]
  },
  {
   "cell_type": "code",
   "execution_count": 28,
   "id": "bb12b47a-bb79-4e98-934e-f7e56d6ba2d2",
   "metadata": {},
   "outputs": [],
   "source": [
    "# with open('vectors.pkl', 'wb') as f:\n",
    "#     pickle.dump(embeddings, f)"
   ]
  },
  {
   "cell_type": "markdown",
   "id": "85637cb1-74a8-4354-8cf9-f67b6c83b073",
   "metadata": {},
   "source": [
    "## 2. Ask Question about The Document "
   ]
  },
  {
   "cell_type": "markdown",
   "id": "192b3585-8e0b-40f9-80d2-0eab652fe9d7",
   "metadata": {},
   "source": [
    "### 2a) Convert The Question into Embeddings "
   ]
  },
  {
   "cell_type": "code",
   "execution_count": 33,
   "id": "8b26609e-6a94-4c25-91a1-9ef86ba23a05",
   "metadata": {},
   "outputs": [],
   "source": [
    "question = 'How to start the engine during takeoff?'"
   ]
  },
  {
   "cell_type": "code",
   "execution_count": 34,
   "id": "60372d47-45d9-4b96-b951-6a7a28d29fa9",
   "metadata": {},
   "outputs": [],
   "source": [
    "def get_top3(qvector, pvectors, n):\n",
    "    dot_prod = np.sum(qvector*pvectors, axis=1)\n",
    "    pnorm2 = np.sum(pvectors**2, axis=1)\n",
    "    dist = dot_prod/pnorm2\n",
    "    results = dist.argsort()[-n:]\n",
    "    return results"
   ]
  },
  {
   "cell_type": "markdown",
   "id": "c4de136f-4cdb-4949-a84e-77ae97aabb39",
   "metadata": {},
   "source": [
    "### 2b) Find Most Relavant Pages "
   ]
  },
  {
   "cell_type": "code",
   "execution_count": 39,
   "id": "e5e8ff07-96d5-4269-b46a-819d0757a0d9",
   "metadata": {},
   "outputs": [
    {
     "name": "stdout",
     "output_type": "stream",
     "text": [
      "[ 88 852  31]\n",
      " USA007587  Rev. A  2. SYSTEMS  2.1 Auxiliary Power Unit/Hydraulics (APU/HYD) 2.1-7  NOTE A barberpole APU/HYD READY TO START talkback will not inhibit a start. APU OPERATE 1, 2, 3  switches are located on panel R2.  When the switches are positioned to START/RUN , the corresponding APU controller activates the start of that unit and removes electrical power automatically from the unit’s gas generator and fuel pump heaters. To start the APU, fuel expelled from the hydrazine tank flows through the open tank valves and filter to the gas generator valve module, which contains the primary and secondary fuel control valves in series.  The primary pulse control valve is normally open, and the secondary pulse control valve is energized open.  Fuel flowing through the pump bypass valve is directed to the gas generator, because the fuel pump is not being driven at that moment by the APU turbine. The fuel in the gas generator decomposes through catalytic reaction, creates hot gas, and directs the hot gas to the single-stage turbine, which begins to rotate.  The turbine’s mechanical shaft drives the reduction gears, rotating the fuel pump, lube oil pump, and hydraulic pump.  The fuel pump increases the fuel pressure at its outlet and provides pressurized fuel to the gas generator valve module and gas generator. The startup logic delays the APU underspeed logic check for 10.5 seconds after the start command is issued.  This allows the APU to reach normal operating speed before the shutdown logic begins checking for a speed lower than 80 percent.  The auto shutdown capability of the controller can be disabled by taking the APU AUTO SHUT DOWN  switch on panel R2 to INHIBIT . The startup logic does not delay the APU overspeed logic.  If an overspeed is detected at any time by the controller, the F7 and MASTER ALARM will annunciate.  If the AUTO SHUT DOWN on panel R2 is ENABLED, the controller will automatically close the tank isolation valves and close the secondary control valve. CAUTION After an APU auto shutdown, the APU FUEL TK VLV  switch must be taken to CLOSE prior to having an auto shutdown.  Failure to close a FUEL TK VLV after an APU Shutdown can result in the fuel tank isolation valves reopen ing and allowing flow fuel to an APU gas generator bed that is above the temperature limits for safe restart.  APU Speed Control When the APU turbine speed exceeds the control target (103 percent for NORMAL and 113 percent for HIGH) the appropriate control valve closes.  The fuel is then diverted through a bypass line back to the fuel pump inlet.  When the turbine speed drops below the control target, the appropriate valve opens directing fuel to the gas generator and closing off the bypass line.  The primary fuel valve pulses to maintain APU speed.  The frequency and duration of the primary fuel control valve pulses are functions of the hydraulic load on the unit. The secondary fuel control valve normally stays fully open during the operation of the primary.  If the primary valve loses power, it goes to the fully open position, and the secondary valve begins pulsing and controlling APU speed.  If the secondary valve loses power at any time  it closes and  the APU is shut down.  If the auxiliary power unit is taken to a high speed (by the APU SPEED SELECT  switch on panel R2), the primary valve attempts to control to 115 percent rpm, while the secondary valve controls the unit’s speed at 113 percent rpm. Each APU controller controls the speed of each unit upon the activation of the APU SPEED SELECT  switch for each APU on panel R2.  The NORM  position controls the speed at  74,160 rpm, 103 percent, plus or minus  8 percent.  The HIGH  position controls the speed at 81,360 rpm, 113 percent, plus or minus  8 percent, with a second backup of 82,800 rpm, 115 percent, plus or minus 8 percent. \n",
      " USA007587  Rev. A 6.1 LAUNCH ABORT MODES AND RATIONALE CONTENTS Mode 1 – Unaided Egress/Escape...... 6.1-1  Mode 2 – Aided Escape........................ 6.1-1  Mode 3 – Aided Escape........................ 6.1-2  Mode 4 – Aided Escape........................ 6.1-2   A shuttle launch may be scrubbed or aborted up to solid rocket booster (SRB) ignition.  Normally, launch scrubs prior to space shuttle main engine (SSME) start are followed by an orderly safing procedure and crew egress, assisted by the closeout crew.  A fully fueled shuttle on the launch pad may present an extremely hazardous situation if toxic vapors, fire, or structural damage are present.  A launch abort after SSME start is automatically controlled by the ground launch sequencer (GLS).  The most serious hazard here is the presence of excess hydrogen, resulting in a hydrogen fire, which is invisible to the eye and very dangerous.  This situation occurred during a launch attempt for STS-41D. In the event of an emergency at the launch pad, the NASA Test Director (NTD), who mans a console in the Launch Control Center (LCC) firing room, is in command.  Priority is flight and ground crew egress and escape, followed by preventing destruction of the shuttle, facilities, complex, and support equipment. Should an abnormal event occur that terminates a flight or prelaunch operation and results in substantial damage to the shuttle and/or injury to personnel, the NTD will declare a contingency situation.  This alerts fire and rescue personnel and puts in motion pre-planned procedures to minimize further damage and injuries. The NTD may also initiate action if an emergency condition exists that requires immediate action to prevent loss of life or destruction of equipment.  In preparation for a potential emergency condition, a hazardous condition may be declared if there is a threat to personnel health or safety.  A hazardous condition may develop into an emergency condition. Depending upon the severity of the situation on the launch pad, an emergency egress/escape may be required to evacuate personnel.  The shuttle program has classi fied four launch pad escape modes that are preplanned and rehearsed by the flight crew, closeout crew, and all launch pad personnel.  Defining these modes prior to the development of an emergency condition or contingency situation ensures standard procedures can be followed and minimizes risk of additional injury and damage. Mode 1 – Unaided Egress/Escape This escape mode may be initiated by the NTD or flight crew.  The NTD will direct that the orbiter access arm (OAA) be returned to its position at the crew module hatch.  The fire/rescue crew will be dispatched if the NTD decides it is safe to do so.  Escape from the shuttle vehicle and the pad is performed by the crew.  This procedure is practiced in trainers and mockups in Houston and rehearsed during terminal countdown demonstration test (TCDT) at KSC.  Because crew complement varies from flight to flight, each crew must develop their own particular procedures.  Using a buddy system is strongly recommended.  Egressing the shuttle along the OAA and across the pad 195 ft level to the slidewire baskets through the water deluge fire suppression system is a hazardous operation.  Given the very real potential of fire, toxic vapors, and explosion, flight crews must be well-trained and prepared. Mode 2 – Aided Escape Aided escape is initiated by the NTD, flight crew, or closeout crew.  This mode is used when the closeout crew is still on the pad.  The closeout crew leader is responsible for ensuring that all personnel egress from the shuttle and proceed along the prescribed escape route to a safe area.  The NTD will also alert the fire/rescue crew.  Injured personnel will be assisted/carried along the escape route, and basic first aid will be rendered if required.  The closeout crew leader keeps the NTD informed of medical conditions and egress/escape progress.  6. EMERGENCY PROCEDURES  6.1 Launch Abort Modes and Rationale 6.1-1  \n",
      "USA007587 Rev. A 1. GENERAL DESCRIPTION 1.1 Overview 1.1-2  Nominal Mission Profile Launch In the launch configuration, the orbiter and two SRBs are attached to the ET in a vertical (nose-u p )  p o s i t i o n  o n  t h e  l a u n c h  p a d .   E a c h  S R B  i s  attached at its aft skirt to the mobile launcher platform by four bolts. The three SSMEs, fed liquid hydrogen fuel and liquid oxygen oxidizer from the ET, are ignited first.  When it has been verified that the engines are operating at the proper thrust level, a signal is sent to ignite the SRBs.  At the proper thrust-to-weight ratio, initiators (small explosives) at eight hold-down bolts on the SRBs are fired to release the space shuttle for lift-off.  Elapsed time is a few seconds. Maximum dynamic pressure is reached early in the ascent, nominally 30 to 60 seconds after lift-off.  Approximately 1 minute later (2 minutes into the ascent phase), the two SRBs have consumed their propellant and are jettisoned from the ET.  This is triggered by a separation signal from the orbiter. The boosters briefly continue to ascend, while small thrusters fire to carry them away from the space shuttle.  The boosters then turn and descend, and at a predetermined altitude, parachutes are deployed to decelerate them for a safe splashdown in the ocean.  Splashdown occurs approximately 141 nm from the launch site.  The boosters are recovered and reused. The orbiter and ET continue to ascend, using the thrust of the three SSMEs.  Approximately 8½ minutes after launch, the three engines undergo main engine cutoff (or MECO), and the ET is jettisoned on command from the orbiter. The forward and aft reaction control system (RCS) jets provide attitude control, translate the orbiter away from the ET at separation, and maneuver the orbiter to burn attitude prior to the orbital maneuvering system (OMS) burn. The ET continues on a ballistic trajectory and enters the atmosphere, where it disintegrates.  Its nominal impact is in the Indian Ocean for a 28° inclination launch. Orbit Insertion and Circularization The normal ascent profile, referred to as “direct insertion,” places the vehicle in a temporary elliptical orbit at MECO.  Orbital altitudes can vary from 100 to 312 nm, depending on mission requirements.  The crew then performs an OMS burn, designated as “OMS 2”, to stabilize the orbit.  This burn can add anywhere between 200 to 550 fps to the vehicle’s orbital velocity, as necessary. In cases of severe performance problems during the ascent, the vehicle may find itself well short of the expected MECO velocity, and even sub-orbital.  In such cases, the crew performs what is called an “OMS 1” burn, which raises the orbit to a safe altitude.  They then peform an OMS 2 burn to stablize that orbit. Orbit On orbit, the forward and aft RCS jets provide attitude control of the orbiter, as well as any minor translation maneuvers along a given axis.  The OMS engines are used to perform orbital transfers, such as those done to rendezvous with the International Space Station (ISS).  While on orbit, the crew fulfills mission objectives, such as ISS assembly and logistics, payload deployment or retrieval, and scientific experiments.   \n"
     ]
    }
   ],
   "source": [
    "question_vec = model.encode([question])[0]     \n",
    "top3 = get_top3(question_vec, embeddings, 3)\n",
    "print(top3)\n",
    "print(content[top3[0]])   \n",
    "print(content[top3[1]])  \n",
    "print(content[top3[2]])  \n",
    "document = content[top3[0]]"
   ]
  },
  {
   "cell_type": "markdown",
   "id": "0ab1b5b1-efc1-4333-b089-f5c49293f4d6",
   "metadata": {},
   "source": [
    "## 3. Prompt Template"
   ]
  },
  {
   "cell_type": "code",
   "execution_count": 41,
   "id": "0abfc450-ce2f-4a05-8c80-4d66c7d7d47f",
   "metadata": {},
   "outputs": [],
   "source": [
    "prompt = f'''\n",
    "Please respond as if you were talking to a non-expert. Use analogies. \n",
    "Given the following extracted parts of a operating manual of a space shuttle and a question, \n",
    "create a final answer with references from the provided document.\n",
    "If you don't know the answer, just say that you don't know. \n",
    "Don't try to make up an answer.\n",
    "ALWAYS return a \"SOURCES\" part in your answer.\n",
    "DOCUMENT: {document}\n",
    "QUESTION: {question}\n",
    "...\n",
    "=========\n",
    "FINAL ANSWER:\n",
    "SOURCES:\n",
    "'''"
   ]
  },
  {
   "cell_type": "code",
   "execution_count": 42,
   "id": "737942ac-646f-4e2c-aed6-a11e1155b8ed",
   "metadata": {},
   "outputs": [
    {
     "name": "stderr",
     "output_type": "stream",
     "text": [
      "llama_model_loader: loaded meta data with 20 key-value pairs and 291 tensors from C:\\Users\\User\\Downloads\\Mistral-7B-Instruct-v0.1-GGUF\\mistral-7b-instruct-v0.1.Q4_K_M.gguf (version GGUF V2)\n",
      "llama_model_loader: Dumping metadata keys/values. Note: KV overrides do not apply in this output.\n",
      "llama_model_loader: - kv   0:                       general.architecture str              = llama\n",
      "llama_model_loader: - kv   1:                               general.name str              = mistralai_mistral-7b-instruct-v0.1\n",
      "llama_model_loader: - kv   2:                       llama.context_length u32              = 32768\n",
      "llama_model_loader: - kv   3:                     llama.embedding_length u32              = 4096\n",
      "llama_model_loader: - kv   4:                          llama.block_count u32              = 32\n",
      "llama_model_loader: - kv   5:                  llama.feed_forward_length u32              = 14336\n",
      "llama_model_loader: - kv   6:                 llama.rope.dimension_count u32              = 128\n",
      "llama_model_loader: - kv   7:                 llama.attention.head_count u32              = 32\n",
      "llama_model_loader: - kv   8:              llama.attention.head_count_kv u32              = 8\n",
      "llama_model_loader: - kv   9:     llama.attention.layer_norm_rms_epsilon f32              = 0.000010\n",
      "llama_model_loader: - kv  10:                       llama.rope.freq_base f32              = 10000.000000\n",
      "llama_model_loader: - kv  11:                          general.file_type u32              = 15\n",
      "llama_model_loader: - kv  12:                       tokenizer.ggml.model str              = llama\n",
      "llama_model_loader: - kv  13:                      tokenizer.ggml.tokens arr[str,32000]   = [\"<unk>\", \"<s>\", \"</s>\", \"<0x00>\", \"<...\n",
      "llama_model_loader: - kv  14:                      tokenizer.ggml.scores arr[f32,32000]   = [0.000000, 0.000000, 0.000000, 0.0000...\n",
      "llama_model_loader: - kv  15:                  tokenizer.ggml.token_type arr[i32,32000]   = [2, 3, 3, 6, 6, 6, 6, 6, 6, 6, 6, 6, ...\n",
      "llama_model_loader: - kv  16:                tokenizer.ggml.bos_token_id u32              = 1\n",
      "llama_model_loader: - kv  17:                tokenizer.ggml.eos_token_id u32              = 2\n",
      "llama_model_loader: - kv  18:            tokenizer.ggml.unknown_token_id u32              = 0\n",
      "llama_model_loader: - kv  19:               general.quantization_version u32              = 2\n",
      "llama_model_loader: - type  f32:   65 tensors\n",
      "llama_model_loader: - type q4_K:  193 tensors\n",
      "llama_model_loader: - type q6_K:   33 tensors\n",
      "llm_load_vocab: special tokens definition check successful ( 259/32000 ).\n",
      "llm_load_print_meta: format           = GGUF V2\n",
      "llm_load_print_meta: arch             = llama\n",
      "llm_load_print_meta: vocab type       = SPM\n",
      "llm_load_print_meta: n_vocab          = 32000\n",
      "llm_load_print_meta: n_merges         = 0\n",
      "llm_load_print_meta: n_ctx_train      = 32768\n",
      "llm_load_print_meta: n_embd           = 4096\n",
      "llm_load_print_meta: n_head           = 32\n",
      "llm_load_print_meta: n_head_kv        = 8\n",
      "llm_load_print_meta: n_layer          = 32\n",
      "llm_load_print_meta: n_rot            = 128\n",
      "llm_load_print_meta: n_embd_head_k    = 128\n",
      "llm_load_print_meta: n_embd_head_v    = 128\n",
      "llm_load_print_meta: n_gqa            = 4\n",
      "llm_load_print_meta: n_embd_k_gqa     = 1024\n",
      "llm_load_print_meta: n_embd_v_gqa     = 1024\n",
      "llm_load_print_meta: f_norm_eps       = 0.0e+00\n",
      "llm_load_print_meta: f_norm_rms_eps   = 1.0e-05\n",
      "llm_load_print_meta: f_clamp_kqv      = 0.0e+00\n",
      "llm_load_print_meta: f_max_alibi_bias = 0.0e+00\n",
      "llm_load_print_meta: f_logit_scale    = 0.0e+00\n",
      "llm_load_print_meta: n_ff             = 14336\n",
      "llm_load_print_meta: n_expert         = 0\n",
      "llm_load_print_meta: n_expert_used    = 0\n",
      "llm_load_print_meta: causal attn      = 1\n",
      "llm_load_print_meta: pooling type     = 0\n",
      "llm_load_print_meta: rope type        = 0\n",
      "llm_load_print_meta: rope scaling     = linear\n",
      "llm_load_print_meta: freq_base_train  = 10000.0\n",
      "llm_load_print_meta: freq_scale_train = 1\n",
      "llm_load_print_meta: n_yarn_orig_ctx  = 32768\n",
      "llm_load_print_meta: rope_finetuned   = unknown\n",
      "llm_load_print_meta: ssm_d_conv       = 0\n",
      "llm_load_print_meta: ssm_d_inner      = 0\n",
      "llm_load_print_meta: ssm_d_state      = 0\n",
      "llm_load_print_meta: ssm_dt_rank      = 0\n",
      "llm_load_print_meta: model type       = 8B\n",
      "llm_load_print_meta: model ftype      = Q4_K - Medium\n",
      "llm_load_print_meta: model params     = 7.24 B\n",
      "llm_load_print_meta: model size       = 4.07 GiB (4.83 BPW) \n",
      "llm_load_print_meta: general.name     = mistralai_mistral-7b-instruct-v0.1\n",
      "llm_load_print_meta: BOS token        = 1 '<s>'\n",
      "llm_load_print_meta: EOS token        = 2 '</s>'\n",
      "llm_load_print_meta: UNK token        = 0 '<unk>'\n",
      "llm_load_print_meta: LF token         = 13 '<0x0A>'\n",
      "llm_load_tensors: ggml ctx size =    0.15 MiB\n",
      "llm_load_tensors:        CPU buffer size =  4165.37 MiB\n",
      ".................................................................................................\n",
      "llama_new_context_with_model: n_ctx      = 3008\n",
      "llama_new_context_with_model: n_batch    = 512\n",
      "llama_new_context_with_model: n_ubatch   = 512\n",
      "llama_new_context_with_model: freq_base  = 10000.0\n",
      "llama_new_context_with_model: freq_scale = 1\n",
      "llama_kv_cache_init:        CPU KV buffer size =   376.00 MiB\n",
      "llama_new_context_with_model: KV self size  =  376.00 MiB, K (f16):  188.00 MiB, V (f16):  188.00 MiB\n",
      "llama_new_context_with_model:        CPU  output buffer size =     0.12 MiB\n",
      "llama_new_context_with_model:        CPU compute buffer size =   225.88 MiB\n",
      "llama_new_context_with_model: graph nodes  = 1030\n",
      "llama_new_context_with_model: graph splits = 1\n",
      "AVX = 1 | AVX_VNNI = 0 | AVX2 = 1 | AVX512 = 0 | AVX512_VBMI = 0 | AVX512_VNNI = 0 | FMA = 1 | NEON = 0 | ARM_FMA = 0 | F16C = 1 | FP16_VA = 0 | WASM_SIMD = 0 | BLAS = 0 | SSE3 = 1 | SSSE3 = 0 | VSX = 0 | MATMUL_INT8 = 0 | \n",
      "Model metadata: {'general.name': 'mistralai_mistral-7b-instruct-v0.1', 'general.architecture': 'llama', 'llama.context_length': '32768', 'llama.rope.dimension_count': '128', 'llama.embedding_length': '4096', 'llama.block_count': '32', 'llama.feed_forward_length': '14336', 'llama.attention.head_count': '32', 'tokenizer.ggml.eos_token_id': '2', 'general.file_type': '15', 'llama.attention.head_count_kv': '8', 'llama.attention.layer_norm_rms_epsilon': '0.000010', 'llama.rope.freq_base': '10000.000000', 'tokenizer.ggml.model': 'llama', 'general.quantization_version': '2', 'tokenizer.ggml.bos_token_id': '1', 'tokenizer.ggml.unknown_token_id': '0'}\n",
      "Using fallback chat format: None\n"
     ]
    }
   ],
   "source": [
    "from llama_cpp import Llama\n",
    "\n",
    "model_path = r\"Mistral-7B-Instruct-v0.1-GGUF\\mistral-7b-instruct-v0.1.Q4_K_M.gguf\" \n",
    "llm = Llama(\n",
    "    model_path=model_path,\n",
    "    n_ctx=3000,  # Context length to use\n",
    "    n_gpu_layers=64\n",
    ")\n",
    "\n",
    "generation_kwargs = {\n",
    "    \"max_tokens\":20000,\n",
    "    \"stop\":[\"</s>\"],\n",
    "    \"echo\":False, # Echo the prompt in the output\n",
    "    \"top_k\":10 \n",
    "}\n"
   ]
  },
  {
   "cell_type": "code",
   "execution_count": 43,
   "id": "67893ce7-1ef5-449c-a194-07b7cef0b407",
   "metadata": {},
   "outputs": [
    {
     "name": "stderr",
     "output_type": "stream",
     "text": [
      "\n",
      "llama_print_timings:        load time =   13259.71 ms\n",
      "llama_print_timings:      sample time =      47.90 ms /   531 runs   (    0.09 ms per token, 11084.67 tokens per second)\n",
      "llama_print_timings: prompt eval time =   31164.12 ms /  1146 tokens (   27.19 ms per token,    36.77 tokens per second)\n",
      "llama_print_timings:        eval time =   68997.34 ms /   530 runs   (  130.18 ms per token,     7.68 tokens per second)\n",
      "llama_print_timings:       total time =  101010.25 ms /  1676 tokens\n"
     ]
    },
    {
     "name": "stdout",
     "output_type": "stream",
     "text": [
      "USA007587 Rev. A 2. SYSTEMS 2.1 Auxiliary Power Unit/Hydraulics (APU/HYD) 2.1-7\n",
      "\n",
      "To start the engine during takeoff, you need to activate the auxiliary power unit (APU). You can do this by following these steps:\n",
      "\n",
      "1. Go to panel R2 on the space shuttle console and locate the APU OPERATE 1, 2, 3 switches.\n",
      "2. Position the switch(s) you want to start to the START/RUN position.\n",
      "3. The corresponding APU controller will automatically remove electrical power from the unit's gas generator and fuel pump heaters.\n",
      "4. Fuel flows through the open tank valves and filter to the gas generator valve module, which contains the primary and secondary fuel control valves in series.\n",
      "5. The primary pulse control valve is normally open, and the secondary pulse control valve is energized open.\n",
      "6. Fuel flowing through the pump bypass valve is directed to the gas generator, because the fuel pump is not being driven at that moment by the APU turbine.\n",
      "7. The fuel in the gas generator decomposes through catalytic reaction, creates hot gas, and directs the hot gas to the single-stage turbine, which begins to rotate.\n",
      "8. The turbine's mechanical shaft drives the reduction gears, rotating the fuel pump, lube oil pump, and hydraulic pump.\n",
      "9. The fuel pump increases the fuel pressure at its outlet and provides pressurized fuel to the gas generator valve module and gas generator.\n",
      "10. After starting the APU, you can adjust the speed by using the APU SPEED SELECT switch on panel R2 to select either NORM (74,160 rpm) or HIGH (81,360 rpm).\n",
      "\n",
      "It's important to note that the startup logic delays the APU underspeed logic check for 10.5 seconds after the start command is issued, allowing the APU to reach normal operating speed before the shutdown logic begins checking for a speed lower than 80 percent. Additionally, you should always close the FUEL TK VLV switch on panel R2 after an APU auto shutdown to prevent fuel from flowing back to the APU gas generator bed that is above the temperature limits for safe restart.\n"
     ]
    }
   ],
   "source": [
    "res = llm(prompt, **generation_kwargs) \n",
    "print(res[\"choices\"][0][\"text\"])"
   ]
  },
  {
   "cell_type": "code",
   "execution_count": null,
   "id": "b7503163-659f-492a-bd4d-2b22c8c99c1c",
   "metadata": {},
   "outputs": [],
   "source": []
  },
  {
   "cell_type": "code",
   "execution_count": null,
   "id": "d00c9d55-e5e5-4189-a011-25dd396596c7",
   "metadata": {},
   "outputs": [],
   "source": []
  },
  {
   "cell_type": "code",
   "execution_count": null,
   "id": "45bf8301-aeed-4b9d-8b7b-5f5c99c032dd",
   "metadata": {},
   "outputs": [],
   "source": []
  }
 ],
 "metadata": {
  "kernelspec": {
   "display_name": "Python 3 (ipykernel)",
   "language": "python",
   "name": "python3"
  },
  "language_info": {
   "codemirror_mode": {
    "name": "ipython",
    "version": 3
   },
   "file_extension": ".py",
   "mimetype": "text/x-python",
   "name": "python",
   "nbconvert_exporter": "python",
   "pygments_lexer": "ipython3",
   "version": "3.12.3"
  }
 },
 "nbformat": 4,
 "nbformat_minor": 5
}
